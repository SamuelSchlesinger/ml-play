{
 "cells": [
  {
   "cell_type": "code",
   "execution_count": null,
   "metadata": {},
   "outputs": [],
   "source": [
    "import tensorflow as tf\n",
    "import numpy as np\n",
    "import random\n",
    "import math\n",
    "\n",
    "from tensorflow.python.keras.models import Sequential\n",
    "from tensorflow.python.keras.layers import Reshape, MaxPooling2D\n",
    "from tensorflow.python.keras.layers import Conv1D, Dense, Flatten, Dropout"
   ]
  },
  {
   "cell_type": "markdown",
   "metadata": {},
   "source": [
    "## Learning Random Boolean Functions\n",
    "\n",
    "We define a dynamically produced random Boolean function with the following class, which takes as input to its call function a {0, 1} float valued vector:"
   ]
  },
  {
   "cell_type": "code",
   "execution_count": null,
   "metadata": {},
   "outputs": [],
   "source": [
    "class RandomFunction:\n",
    "    def __init__(self):\n",
    "        self.fn = dict()\n",
    "\n",
    "    def __call__(self, x):\n",
    "        k = str(list(x))\n",
    "        if k not in self.fn:\n",
    "            self.fn[k] = random.choice([float(0), float(1)])\n",
    "        return self.fn[k]\n",
    "    \n",
    "f = RandomFunction()"
   ]
  },
  {
   "cell_type": "markdown",
   "metadata": {},
   "source": [
    "Next, we set a number of bits for the function to take in, as well as the training and test sets."
   ]
  },
  {
   "cell_type": "code",
   "execution_count": null,
   "metadata": {},
   "outputs": [],
   "source": [
    "def bitstrings(n):\n",
    "    if (n == 0):\n",
    "        return [[]]\n",
    "    else:\n",
    "        bs = bitstrings(n - 1)\n",
    "        return list(map(lambda b: [0] + b, bs)) + list(map(lambda b: [1] + b, bs))\n",
    "\n",
    "n_bits = 40\n",
    "\n",
    "n_training_points = 100*n_bits \n",
    "\n",
    "# training_data = [[random.choice([float(0), float(1)]) for _ in range(n_bits)] for _ in range(n_training_points)]\n",
    "\n",
    "training_data = bitstrings(n_bits)\n",
    "\n",
    "training_input = np.array(training_data)\n",
    "\n",
    "training_output = np.apply_along_axis(f, 1, training_input)\n",
    "\n",
    "n_test_points = 100*n_bits\n",
    "\n",
    "# test_data = [[random.choice([float(0), float(1)]) for _ in range(n_bits)] for _ in range(n_test_points)]\n",
    "\n",
    "test_data = bitstrings(n_bits)\n",
    "\n",
    "test_input = np.array(test_data)\n",
    "\n",
    "test_output = np.apply_along_axis(f, 1, test_input)"
   ]
  },
  {
   "cell_type": "markdown",
   "metadata": {},
   "source": [
    "Finally, we build the model! It is a feed-forward, or sequential, network with two RELU layers and a softmax layer."
   ]
  },
  {
   "cell_type": "code",
   "execution_count": null,
   "metadata": {
    "scrolled": true
   },
   "outputs": [],
   "source": [
    "model = Sequential()\n",
    "model.add(Dense(n_bits, activation='relu'))\n",
    "model.add(Dropout(1/2))\n",
    "model.add(Dense(n_bits, activation='tanh'))\n",
    "model.add(Dropout(1/2))\n",
    "model.add(Dense(1, activation='sigmoid'))\n",
    "\n",
    "model.compile(loss='binary_crossentropy', optimizer='SGD', metrics=['accuracy'])"
   ]
  },
  {
   "cell_type": "markdown",
   "metadata": {},
   "source": [
    "We evaluate its initial performance."
   ]
  },
  {
   "cell_type": "code",
   "execution_count": null,
   "metadata": {},
   "outputs": [],
   "source": [
    "err0 = model.evaluate(test_input, test_output, verbose=0)[1]"
   ]
  },
  {
   "cell_type": "markdown",
   "metadata": {},
   "source": [
    "Then, at last, we train the model and report how much better it got."
   ]
  },
  {
   "cell_type": "code",
   "execution_count": null,
   "metadata": {},
   "outputs": [],
   "source": [
    "model.fit(training_input, training_output, epochs=100, verbose=0)\n",
    "\n",
    "errf = model.evaluate(test_input, test_output, verbose=0)[1]\n",
    "print(\"Final test error: {}\".format(errf))\n",
    "print(\"Original test error: {}\".format(err0))\n",
    "print(\"Difference: {}\".format(errf - err0))"
   ]
  }
 ],
 "metadata": {
  "kernelspec": {
   "display_name": "Python 3",
   "language": "python",
   "name": "python3"
  },
  "language_info": {
   "codemirror_mode": {
    "name": "ipython",
    "version": 3
   },
   "file_extension": ".py",
   "mimetype": "text/x-python",
   "name": "python",
   "nbconvert_exporter": "python",
   "pygments_lexer": "ipython3",
   "version": "3.6.6"
  }
 },
 "nbformat": 4,
 "nbformat_minor": 2
}
